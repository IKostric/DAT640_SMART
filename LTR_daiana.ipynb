{
 "cells": [
  {
   "cell_type": "code",
   "execution_count": 1,
   "metadata": {},
   "outputs": [],
   "source": [
    "from elasticsearch import Elasticsearch\n",
    "import json\n",
    "import itertools\n",
    "import numpy as np\n",
    "from sklearn.ensemble import RandomForestRegressor\n",
    "\n",
    "from util.es import ES\n",
    "from util.parse_dbpedia import get_type_weights\n",
    "from smart_dataset.evaluation.dbpedia.evaluate import load_type_hierarchy, evaluate, get_type_path"
   ]
  },
  {
   "cell_type": "code",
   "execution_count": 2,
   "metadata": {},
   "outputs": [],
   "source": [
    "class PointWiseLTRModel(object):\n",
    "    def __init__(self, regressor):\n",
    "        \"\"\"\n",
    "        Arguments:\n",
    "            classifier: An instance of scikit-learn regressor.\n",
    "        \"\"\"\n",
    "        self.regressor = regressor\n",
    "\n",
    "    def _train(self, X, y):\n",
    "        \"\"\"Trains an LTR model.\n",
    "        \n",
    "        Arguments:\n",
    "            X: Features of training instances.\n",
    "            y: Relevance assessments of training instances.\n",
    "        \"\"\"\n",
    "        assert self.regressor is not None\n",
    "        self.model = self.regressor.fit(X, y)\n",
    "\n",
    "    def rank(self, ft, doc_ids):\n",
    "        \"\"\"Predicts relevance labels and rank documents for a given query.\n",
    "        \n",
    "        Arguments:\n",
    "            ft: A list of feature vectors for query-document pairs.\n",
    "            doc_ids: A list of document ids.\n",
    "        Returns:\n",
    "            List of tuples, each consisting of document ID and predicted relevance label.\n",
    "        \"\"\"\n",
    "        assert self.model is not None\n",
    "        rel_labels = self.model.predict(ft)\n",
    "        sort_indices = np.argsort(rel_labels)[::-1]\n",
    "\n",
    "        results = []\n",
    "        for i in sort_indices:\n",
    "            results.append((doc_ids[i], rel_labels[i]))\n",
    "        return results"
   ]
  },
  {
   "cell_type": "code",
   "execution_count": 3,
   "metadata": {},
   "outputs": [],
   "source": [
    "def get_baseline(dataset='train'):\n",
    "    baseline = []\n",
    "    for model in ['EC', 'TC']:\n",
    "        for similarity in ['BM25', 'LM']:\n",
    "            results = {key: {k:v for k,v in val} for key,val in ES(model, similarity).generate_baseline_scores(dataset).items()}\n",
    "            baseline.append(results)\n",
    "    return baseline"
   ]
  },
  {
   "cell_type": "code",
   "execution_count": 4,
   "metadata": {},
   "outputs": [],
   "source": [
    "BASELINE = {'train':get_baseline()}"
   ]
  },
  {
   "cell_type": "code",
   "execution_count": 5,
   "metadata": {},
   "outputs": [],
   "source": [
    "ENTITIES = get_type_weights()"
   ]
  },
  {
   "cell_type": "code",
   "execution_count": 6,
   "metadata": {},
   "outputs": [
    {
     "name": "stdout",
     "output_type": "stream",
     "text": [
      "Loading type hierarchy from ./smart_dataset/evaluation/dbpedia/dbpedia_types.tsv... 760 types loaded (max depth: 7)\n"
     ]
    }
   ],
   "source": [
    "type_hierarchy, max_depth = load_type_hierarchy('./smart_dataset/evaluation/dbpedia/dbpedia_types.tsv')"
   ]
  },
  {
   "cell_type": "code",
   "execution_count": 7,
   "metadata": {},
   "outputs": [],
   "source": [
    "with open('./data/train_set_fixed.json', 'r') as f:\n",
    "    train_set = json.load(f)\n",
    "    \n",
    "train_set = [q for q in train_set if q['category'] == 'resource']"
   ]
  },
  {
   "cell_type": "code",
   "execution_count": 8,
   "metadata": {},
   "outputs": [],
   "source": [
    "with open('./data/validation_set_fixed.json', 'r') as f:\n",
    "    validation_set = json.load(f)\n",
    "    \n",
    "validation_set = [q for q in validation_set if q['category'] == 'resource']"
   ]
  },
  {
   "cell_type": "code",
   "execution_count": 9,
   "metadata": {},
   "outputs": [],
   "source": [
    "with open('./data/test_set_fixed.json', 'r') as f:\n",
    "    test_set = json.load(f)\n",
    "    \n",
    "test_set = [q for q in test_set if q['category'] == 'resource']"
   ]
  },
  {
   "cell_type": "code",
   "execution_count": 10,
   "metadata": {},
   "outputs": [],
   "source": [
    "# load file with type family features\n",
    "with open('./data/type_hierarchy_features.json', 'r') as f:\n",
    "    FAMILY = json.load(f)"
   ]
  },
  {
   "cell_type": "code",
   "execution_count": 11,
   "metadata": {},
   "outputs": [
    {
     "ename": "FileNotFoundError",
     "evalue": "[Errno 2] No such file or directory: './data/type_length_features.json'",
     "output_type": "error",
     "traceback": [
      "\u001b[0;31m---------------------------------------------------------------------------\u001b[0m",
      "\u001b[0;31mFileNotFoundError\u001b[0m                         Traceback (most recent call last)",
      "\u001b[0;32m<ipython-input-11-a8ecd27e997a>\u001b[0m in \u001b[0;36m<module>\u001b[0;34m\u001b[0m\n\u001b[0;32m----> 1\u001b[0;31m \u001b[0;32mwith\u001b[0m \u001b[0mopen\u001b[0m\u001b[0;34m(\u001b[0m\u001b[0;34m'./data/type_length_features.json'\u001b[0m\u001b[0;34m,\u001b[0m \u001b[0;34m'r'\u001b[0m\u001b[0;34m)\u001b[0m \u001b[0;32mas\u001b[0m \u001b[0mf\u001b[0m\u001b[0;34m:\u001b[0m\u001b[0;34m\u001b[0m\u001b[0;34m\u001b[0m\u001b[0m\n\u001b[0m\u001b[1;32m      2\u001b[0m     \u001b[0mT_LENGTH\u001b[0m \u001b[0;34m=\u001b[0m \u001b[0mjson\u001b[0m\u001b[0;34m.\u001b[0m\u001b[0mload\u001b[0m\u001b[0;34m(\u001b[0m\u001b[0mf\u001b[0m\u001b[0;34m)\u001b[0m\u001b[0;34m\u001b[0m\u001b[0;34m\u001b[0m\u001b[0m\n",
      "\u001b[0;31mFileNotFoundError\u001b[0m: [Errno 2] No such file or directory: './data/type_length_features.json'"
     ]
    }
   ],
   "source": [
    "with open('./data/type_length_features.json', 'r') as f:\n",
    "    T_LENGTH = json.load(f)"
   ]
  },
  {
   "cell_type": "code",
   "execution_count": null,
   "metadata": {},
   "outputs": [],
   "source": [
    "with open('./data/type_label_idf_features.json', 'r') as f:\n",
    "    T_LABEL = json.load(f)\n"
   ]
  },
  {
   "cell_type": "code",
   "execution_count": null,
   "metadata": {},
   "outputs": [],
   "source": [
    "with open('./data/type_query_idf_features.json', 'r') as f:\n",
    "    Q_T_IDF = json.load(f)"
   ]
  },
  {
   "cell_type": "code",
   "execution_count": null,
   "metadata": {},
   "outputs": [],
   "source": [
    "def extract_features(qid, t, dataset = 'train'):\n",
    "    \"\"\"Returns features to use in ltr\n",
    "    \"\"\"        \n",
    "    # Add baseline features in following order:\n",
    "    # EC_BM, EC_LM, TC_BM, TC_LM\n",
    "    features = [es.get(qid, {}).get(t, 0) for es in BASELINE[dataset]]\n",
    "    \n",
    "    # add ENTITIES\n",
    "    features.append(ENTITIES[t])\n",
    "    \n",
    "    # add type family features\n",
    "    if t[4:] in FAMILY.keys():\n",
    "        features.append(FAMILY[t[4:]]['depth'])\n",
    "        features.append(len(FAMILY[t[4:]]['siblings']))\n",
    "        features.append(len(FAMILY[t[4:]]['children'])) \n",
    "    else:\n",
    "     #   print('type: {} not in hierarchy list'.format(t))\n",
    "        features +=[0,0,0]\n",
    "    \n",
    "    # add type length\n",
    "    if t[4:] in T_LENGTH.keys():\n",
    "        features.append(T_LENGTH[t[4:]]['X'][\"doc_length_body\"])\n",
    "    else:\n",
    "    #    print('type: {} not in type length list'.format(t))\n",
    "        features.append(0) \n",
    "        \n",
    "    # add IDF label features\n",
    "    if t[4:] in T_LABEL.keys():\n",
    "        for f in T_LABEL[t[4:]]['X'].values():\n",
    "            features.append(f) \n",
    "    else:\n",
    "   #     print('type: {} not in labels list'.format(t))\n",
    "        features += [0]*4\n",
    "    \n",
    "        # add query type IDF features\n",
    "    if t[4:] in Q_T_IDF.keys():\n",
    "        for f in Q_T_IDF[t[4:]].values():\n",
    "            features.append(f) \n",
    "    else:\n",
    "   #     print('type: {} not in labels list'.format(t))\n",
    "        features += [0]*4\n",
    "\n",
    "    return features"
   ]
  },
  {
   "cell_type": "code",
   "execution_count": null,
   "metadata": {},
   "outputs": [],
   "source": [
    "def prepare_ltr_training_data(queries):\n",
    "    X, y = [], []\n",
    "    empty = []\n",
    "    count = 0\n",
    "    for i, query in enumerate(queries):\n",
    "        types = set([*query['type'], *list(itertools.chain.from_iterable([list(es.get(query['id'], {}).keys()) for es in BASELINE['train']]))])\n",
    "        for t in types:\n",
    "            X.append(extract_features(query['id'], t))\n",
    "            y.append(1 if t in query['type'] else 0)\n",
    "  #          if t[4:] not in T_LABEL.keys() and t[4:] not in empty:\n",
    "  #              empty.append(t[4:])\n",
    "  #              count += 1\n",
    "  #  print('Number of queries not in short abstract TC index: ', len(empty))\n",
    " #   print(empty)\n",
    "    return np.array(X), np.array(y)"
   ]
  },
  {
   "cell_type": "code",
   "execution_count": null,
   "metadata": {},
   "outputs": [],
   "source": [
    "X_train, y_train = prepare_ltr_training_data(train_set)\n",
    "len(y_train), sum(y_train)"
   ]
  },
  {
   "cell_type": "code",
   "execution_count": null,
   "metadata": {},
   "outputs": [],
   "source": [
    "X_validation, y_validation = prepare_ltr_training_data(validation_set)\n",
    "len(y_validation), sum(y_validation)"
   ]
  },
  {
   "cell_type": "code",
   "execution_count": null,
   "metadata": {},
   "outputs": [],
   "source": [
    "X_test, y_test = prepare_ltr_training_data(test_set)\n",
    "len(y_test), sum(y_test)"
   ]
  },
  {
   "cell_type": "code",
   "execution_count": null,
   "metadata": {},
   "outputs": [],
   "source": [
    "# Instantiate an scikit-learn regression model, `clf`.\n",
    "clf = RandomForestRegressor(max_depth=3, n_estimators=100)\n",
    "\n",
    "# Instantiate PointWiseLTRModel.\n",
    "ltr = PointWiseLTRModel(clf)\n",
    "ltr._train(X_train, y_train)"
   ]
  },
  {
   "cell_type": "code",
   "execution_count": null,
   "metadata": {},
   "outputs": [],
   "source": [
    "def get_rankings(ltr, queries, dataset='train'):\n",
    "    test_rankings = {}\n",
    "    if dataset not in BASELINE:\n",
    "        BASELINE[dataset] = get_baseline(dataset)\n",
    "    \n",
    "    for i, query in enumerate(queries):\n",
    "        types = set([*query['type'], *list(itertools.chain.from_iterable([list(es.get(query['id'], {}).keys()) for es in BASELINE[dataset]]))])\n",
    "        features = [extract_features(query['id'], t, dataset) for t in types] \n",
    "        test_rankings[query['id']] = ltr.rank(features, list(types))\n",
    "        \n",
    "    return test_rankings"
   ]
  },
  {
   "cell_type": "code",
   "execution_count": null,
   "metadata": {},
   "outputs": [],
   "source": [
    "def get_ground_truth(dataset, type_hierarchy):\n",
    "    ground_truth = {}\n",
    "    for query in dataset:\n",
    "        ID = query['id']\n",
    "        if query['category'] != 'resource':\n",
    "            continue\n",
    "\n",
    "        ground_truth_type = [t for t in query['type'] if t in type_hierarchy]\n",
    "        if not ground_truth_type:\n",
    "            continue\n",
    "\n",
    "        ground_truth[ID] = {\n",
    "            'category': 'resource',\n",
    "            'type': ground_truth_type\n",
    "        }\n",
    "        \n",
    "    return ground_truth"
   ]
  },
  {
   "cell_type": "code",
   "execution_count": null,
   "metadata": {},
   "outputs": [],
   "source": [
    "def format_outputs(dataset, type_hierarchy):\n",
    "    results = get_rankings(ltr,dataset)\n",
    "    system_output = {}\n",
    "    \n",
    "    for query in dataset:\n",
    "        ID = query['id']\n",
    "        if query['category'] != 'resource':\n",
    "            continue\n",
    "\n",
    "        if not any([t for t in query['type'] if t in type_hierarchy]):\n",
    "            continue\n",
    "\n",
    "        system_output_type = [t for t,s in results[ID] if t in type_hierarchy] if ID in results else None\n",
    "  #      system_output_type = get_type_path(system_output_type[0], type_hierarchy) if system_output_type else []\n",
    "\n",
    "        system_output[ID] = {\n",
    "            'category': 'resource',\n",
    "            'type': system_output_type\n",
    "        }\n",
    "        \n",
    "    return system_output"
   ]
  },
  {
   "cell_type": "code",
   "execution_count": null,
   "metadata": {},
   "outputs": [],
   "source": [
    "#load features as dictionary\n",
    "def load_features(filename):\n",
    "    try:\n",
    "        with open(filename,'r') as f:\n",
    "            features = json.load(f)\n",
    "        return features \n",
    "    except:\n",
    "        return None"
   ]
  },
  {
   "cell_type": "code",
   "execution_count": null,
   "metadata": {},
   "outputs": [],
   "source": [
    "# Set which dataset to use for evaluation\n",
    "eval_dataset = train_set\n",
    "\n",
    "# Evaluate\n",
    "ground_truth = get_ground_truth(eval_dataset, type_hierarchy)\n",
    "system_output = format_outputs(eval_dataset, type_hierarchy)\n",
    "evaluate(system_output, ground_truth, type_hierarchy, max_depth)"
   ]
  },
  {
   "cell_type": "code",
   "execution_count": null,
   "metadata": {},
   "outputs": [],
   "source": [
    "# Set which dataset to use for evaluation\n",
    "#eval_dataset = train_set\n",
    "\n",
    "# Evaluate\n",
    "#ground_truth = get_ground_truth(eval_dataset, type_hierarchy)\n",
    "#system_output = format_outputs(eval_dataset, type_hierarchy)\n",
    "#evaluate(system_output, ground_truth, type_hierarchy, max_depth)"
   ]
  },
  {
   "cell_type": "code",
   "execution_count": null,
   "metadata": {},
   "outputs": [],
   "source": []
  }
 ],
 "metadata": {
  "kernelspec": {
   "display_name": "Python 3",
   "language": "python",
   "name": "python3"
  },
  "language_info": {
   "codemirror_mode": {
    "name": "ipython",
    "version": 3
   },
   "file_extension": ".py",
   "mimetype": "text/x-python",
   "name": "python",
   "nbconvert_exporter": "python",
   "pygments_lexer": "ipython3",
   "version": "3.8.5"
  }
 },
 "nbformat": 4,
 "nbformat_minor": 2
}
