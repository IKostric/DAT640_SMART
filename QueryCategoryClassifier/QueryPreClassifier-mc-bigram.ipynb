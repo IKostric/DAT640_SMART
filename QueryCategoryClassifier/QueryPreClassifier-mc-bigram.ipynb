{
 "cells": [
  {
   "cell_type": "code",
   "execution_count": 50,
   "metadata": {},
   "outputs": [],
   "source": [
    "import numpy as np\n",
    "import os\n",
    "import json\n",
    "from nltk.tokenize import word_tokenize\n",
    "from sklearn.feature_extraction import DictVectorizer\n",
    "from collections import Counter\n",
    "from sklearn.neural_network import MLPClassifier\n",
    "from sklearn.model_selection import train_test_split\n",
    "from sklearn import metrics as mtr\n",
    "import pickle"
   ]
  },
  {
   "cell_type": "code",
   "execution_count": 17,
   "metadata": {},
   "outputs": [],
   "source": [
    "def bigram(words):\n",
    "    big = []\n",
    "    for i in range(len(words[:-1])):\n",
    "        big.append(words[i] + ' ' + words[i+1])\n",
    "    return big"
   ]
  },
  {
   "cell_type": "code",
   "execution_count": 3,
   "metadata": {},
   "outputs": [],
   "source": [
    "with open ('smarttask_dbpedia_train.json') as f:\n",
    "    train_query_file = json.load(f)\n",
    "\n",
    "#list of categories, with literal divided into types\n",
    "classes = np.array(['resource', 'date', 'number', 'string', 'boolean'])\n",
    "\n",
    "y_label = []\n",
    "for query in train_query_file:\n",
    "    try:\n",
    "        words = word_tokenize(query['question'].replace('?',''))\n",
    "        #bigrams in the query\n",
    "        bigrams = bigram(words)\n",
    "    except:\n",
    "        words = []\n",
    "        bigrams = []\n",
    "    word_count = {w: f for w, f in sorted(dict(Counter(words)).items(), key=lambda item: item[1], reverse=True)}\n",
    "    bi_count = {b: f for b, f in sorted(dict(Counter(bigrams)).items(), key=lambda item: item[1], reverse=True)}\n",
    "    query['words'] = {**word_count, **bi_count}\n",
    "    if query['category']=='literal':\n",
    "        y_label.append(query['type'][0])\n",
    "    else:\n",
    "        y_label.append(query['category'])\n",
    "y_label = np.array(y_label)\n",
    "for i, c in enumerate(classes):\n",
    "    y_label = np.where(y_label==c,i,y_label)\n",
    "y_label = y_label.astype(int)"
   ]
  },
  {
   "cell_type": "code",
   "execution_count": null,
   "metadata": {},
   "outputs": [],
   "source": [
    "#division into train & eval sets\n",
    "X_train, X_eval = train_test_split(train_query_file, test_size=0.2, random_state=1)\n",
    "y_train, y_eval = train_test_split(y_label, test_size=0.2, random_state=1)"
   ]
  },
  {
   "cell_type": "code",
   "execution_count": null,
   "metadata": {},
   "outputs": [],
   "source": [
    "#vectorizing\n",
    "vec = DictVectorizer()\n",
    "X_train = vec.fit_transform([q['words'] for q in X_train])\n",
    "X_eval = vec.transform([q['words'] for q in X_eval])"
   ]
  },
  {
   "cell_type": "code",
   "execution_count": 30,
   "metadata": {},
   "outputs": [],
   "source": [
    "def predict_query(query, dictVect, classifier):\n",
    "    try:\n",
    "        words = word_tokenize(query.replace('?',''))\n",
    "        #bigrams in the query\n",
    "        bigrams = bigram(words)\n",
    "    except:\n",
    "        words = []\n",
    "        bigrams = []\n",
    "    word_count = {w: f for w, f in sorted(dict(Counter(words)).items(), key=lambda item: item[1], reverse=True)}\n",
    "    bi_count = {b: f for b, f in sorted(dict(Counter(bigrams)).items(), key=lambda item: item[1], reverse=True)}\n",
    "    tokens = {**word_count, **bi_count}\n",
    "    word_vector = vec.transform(tokens)\n",
    "    return classifier.predict(word_vector)\n",
    "\n",
    "def metrics(y, pred):\n",
    "    acc = mtr.accuracy_score(y_eval, pred)\n",
    "    bacc = mtr.balanced_accuracy_score(y_eval, pred)\n",
    "    f1_mac = mtr.f1_score(y_eval, pred,average='macro')\n",
    "    f1_mic = mtr.f1_score(y_eval, pred,average='micro')\n",
    "    print('Accuracy: {:.3}\\nBalanced Accuracy: {:.3}\\nF1 Macro: {:.3}\\nF1 Micro: {:.3}'.format(acc,bacc,f1_mac,f1_mic))"
   ]
  },
  {
   "cell_type": "code",
   "execution_count": 52,
   "metadata": {},
   "outputs": [],
   "source": [
    "try:\n",
    "    with open('biqpclas','rb') as f:\n",
    "        clf = pickle.load(f)\n",
    "except:\n",
    "    print('No file, training')\n",
    "    clf = MLPClassifier(random_state=4)\n",
    "    clf.fit(X_train,y_train)"
   ]
  },
  {
   "cell_type": "code",
   "execution_count": 53,
   "metadata": {},
   "outputs": [],
   "source": [
    "pred = clf.predict(X_eval)"
   ]
  },
  {
   "cell_type": "code",
   "execution_count": 54,
   "metadata": {},
   "outputs": [
    {
     "name": "stdout",
     "output_type": "stream",
     "text": [
      "Accuracy: 0.938\n",
      "Balanced Accuracy: 0.9\n",
      "F1 Macro: 0.92\n",
      "F1 Micro: 0.938\n"
     ]
    }
   ],
   "source": [
    "metrics(y_eval, pred)"
   ]
  },
  {
   "cell_type": "code",
   "execution_count": 55,
   "metadata": {},
   "outputs": [
    {
     "data": {
      "text/plain": [
       "array(['resource'], dtype='<U8')"
      ]
     },
     "execution_count": 55,
     "metadata": {},
     "output_type": "execute_result"
    }
   ],
   "source": [
    "#demonstrate query prediction\n",
    "query = 'What is the largest country in the world?'\n",
    "classes[predict_query(query, vec, clf)]"
   ]
  },
  {
   "cell_type": "code",
   "execution_count": 51,
   "metadata": {},
   "outputs": [],
   "source": [
    "if True:\n",
    "    with open('biqpclas','wb') as f:\n",
    "        pickle.dump(clf,f)"
   ]
  },
  {
   "cell_type": "code",
   "execution_count": null,
   "metadata": {},
   "outputs": [],
   "source": []
  }
 ],
 "metadata": {
  "kernelspec": {
   "display_name": "Python 3",
   "language": "python",
   "name": "python3"
  },
  "language_info": {
   "codemirror_mode": {
    "name": "ipython",
    "version": 3
   },
   "file_extension": ".py",
   "mimetype": "text/x-python",
   "name": "python",
   "nbconvert_exporter": "python",
   "pygments_lexer": "ipython3",
   "version": "3.7.3"
  }
 },
 "nbformat": 4,
 "nbformat_minor": 2
}
