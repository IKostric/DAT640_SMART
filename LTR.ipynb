{
 "cells": [
  {
   "cell_type": "code",
   "execution_count": 1,
   "metadata": {},
   "outputs": [],
   "source": [
    "from elasticsearch import Elasticsearch\n",
    "import json\n",
    "import numpy as np\n",
    "from sklearn.ensemble import RandomForestRegressor\n",
    "\n",
    "from util.es import ES\n",
    "from smart_dataset.evaluation.dbpedia.evaluate import load_type_hierarchy, evaluate, get_type_path"
   ]
  },
  {
   "cell_type": "code",
   "execution_count": 2,
   "metadata": {},
   "outputs": [],
   "source": [
    "class PointWiseLTRModel(object):\n",
    "    def __init__(self, regressor):\n",
    "        \"\"\"\n",
    "        Arguments:\n",
    "            classifier: An instance of scikit-learn regressor.\n",
    "        \"\"\"\n",
    "        self.regressor = regressor\n",
    "\n",
    "    def _train(self, X, y):\n",
    "        \"\"\"Trains an LTR model.\n",
    "        \n",
    "        Arguments:\n",
    "            X: Features of training instances.\n",
    "            y: Relevance assessments of training instances.\n",
    "        \"\"\"\n",
    "        assert self.regressor is not None\n",
    "        self.model = self.regressor.fit(X, y)\n",
    "\n",
    "    def rank(self, ft, doc_ids):\n",
    "        \"\"\"Predicts relevance labels and rank documents for a given query.\n",
    "        \n",
    "        Arguments:\n",
    "            ft: A list of feature vectors for query-document pairs.\n",
    "            doc_ids: A list of document ids.\n",
    "        Returns:\n",
    "            List of tuples, each consisting of document ID and predicted relevance label.\n",
    "        \"\"\"\n",
    "        assert self.model is not None\n",
    "        rel_labels = self.model.predict(ft)\n",
    "        sort_indices = np.argsort(rel_labels)[::-1]\n",
    "\n",
    "        results = []\n",
    "        for i in sort_indices:\n",
    "            results.append((doc_ids[i], rel_labels[i]))\n",
    "        return results"
   ]
  },
  {
   "cell_type": "code",
   "execution_count": 3,
   "metadata": {},
   "outputs": [],
   "source": [
    "with open('./data/train_set_fixed.json', 'r') as f:\n",
    "    train_set = json.load(f)\n",
    "    \n",
    "train_set = [q for q in train_set if q['category'] == 'resource']"
   ]
  },
  {
   "cell_type": "code",
   "execution_count": 4,
   "metadata": {},
   "outputs": [],
   "source": [
    "def extract_features():\n",
    "    \"\"\"Not currently in use\"\"\"\n",
    "    return [0]"
   ]
  },
  {
   "cell_type": "code",
   "execution_count": 5,
   "metadata": {},
   "outputs": [],
   "source": [
    "res_ec = ES('EC').generate_baseline_scores('validation')\n",
    "res_tc = ES('TC').generate_baseline_scores('validation')"
   ]
  },
  {
   "cell_type": "code",
   "execution_count": 6,
   "metadata": {},
   "outputs": [],
   "source": [
    "def prepare_ltr_training_data(queries):\n",
    "    X, y = [], []\n",
    "\n",
    "    res_ec = ES('EC').generate_baseline_scores('train')\n",
    "    res_tc = ES('TC').generate_baseline_scores('train')\n",
    "    \n",
    "    for i, query in enumerate(queries):\n",
    "        types = set()\n",
    "        \n",
    "        types_ec = {k:v for k,v in res_ec.get(query['id'], [])}\n",
    "        types_tc = {k:v for k,v in res_tc.get(query['id'], [])}\n",
    "        \n",
    "        types.update(types_ec.keys())\n",
    "        types.update(types_tc.keys())\n",
    "        types.update(query['type'])\n",
    "        \n",
    "        for ID in types:\n",
    "            # ec, tc\n",
    "            features = [types_ec.get(ID, 0), types_tc.get(ID, 0)]\n",
    "            X.append(features)\n",
    "            y.append(1 if ID in query['type'] else 0)\n",
    "    \n",
    "    return X, y"
   ]
  },
  {
   "cell_type": "code",
   "execution_count": 7,
   "metadata": {},
   "outputs": [],
   "source": [
    "X_train, y_train = prepare_ltr_training_data(train_set)"
   ]
  },
  {
   "cell_type": "code",
   "execution_count": 8,
   "metadata": {},
   "outputs": [],
   "source": [
    "# Instantiate an scikit-learn regression model, `clf`.\n",
    "clf = RandomForestRegressor(max_depth=3, n_estimators=100)\n",
    "\n",
    "# Instantiate PointWiseLTRModel.\n",
    "ltr = PointWiseLTRModel(clf)\n",
    "ltr._train(X_train, y_train)"
   ]
  },
  {
   "cell_type": "code",
   "execution_count": 9,
   "metadata": {},
   "outputs": [],
   "source": [
    "def get_rankings(ltr, queries, dataset='train'):\n",
    "    test_rankings = {}\n",
    "\n",
    "    res_ec = ES('EC').generate_baseline_scores(dataset)\n",
    "    res_tc = ES('TC').generate_baseline_scores(dataset)\n",
    "    \n",
    "    for i, query in enumerate(queries):\n",
    "        types = set()\n",
    "        \n",
    "        types_ec = {k:v for k,v in res_ec.get(query['id'], [])}\n",
    "        types_tc = {k:v for k,v in res_tc.get(query['id'], [])}\n",
    "        \n",
    "        types.update(types_ec.keys())\n",
    "        types.update(types_tc.keys())\n",
    "        if not types:\n",
    "            continue\n",
    "            \n",
    "        types = list(types)\n",
    "        features = [[types_ec.get(ID, 0), types_tc.get(ID, 0)] for ID in types]\n",
    "        test_rankings[query['id']] = ltr.rank(features, types)\n",
    "    return test_rankings"
   ]
  },
  {
   "cell_type": "code",
   "execution_count": 10,
   "metadata": {},
   "outputs": [],
   "source": [
    "def get_ground_truth(dataset, type_hierarchy):\n",
    "    ground_truth = {}\n",
    "    for query in dataset:\n",
    "        ID = query['id']\n",
    "        if query['category'] != 'resource':\n",
    "            continue\n",
    "\n",
    "        ground_truth_type = [t for t in query['type'] if t in type_hierarchy]\n",
    "        if not ground_truth_type:\n",
    "            continue\n",
    "\n",
    "        ground_truth[ID] = {\n",
    "            'category': 'resource',\n",
    "            'type': ground_truth_type\n",
    "        }\n",
    "        \n",
    "    return ground_truth"
   ]
  },
  {
   "cell_type": "code",
   "execution_count": 11,
   "metadata": {},
   "outputs": [],
   "source": [
    "def format_outputs(dataset, type_hierarchy):\n",
    "    k = 100\n",
    "    results = get_rankings(ltr,dataset)\n",
    "    system_output = {}\n",
    "    for query in dataset:\n",
    "        ID = query['id']\n",
    "        if query['category'] != 'resource':\n",
    "            continue\n",
    "\n",
    "        if not any([t for t in query['type'] if t in type_hierarchy]):\n",
    "            continue\n",
    "\n",
    "        system_output_type = [t for t,s in results[ID] if t in type_hierarchy] if ID in results else None\n",
    "        system_output_type = get_type_path(system_output_type[0], type_hierarchy) if system_output_type else []\n",
    "\n",
    "        system_output[ID] = {\n",
    "            'category': 'resource',\n",
    "            'type': system_output_type\n",
    "        }\n",
    "        \n",
    "    return system_output"
   ]
  },
  {
   "cell_type": "code",
   "execution_count": 12,
   "metadata": {},
   "outputs": [
    {
     "name": "stdout",
     "output_type": "stream",
     "text": [
      "Loading type hierarchy from ./smart_dataset/evaluation/dbpedia/dbpedia_types.tsv... 760 types loaded (max depth: 7)\n"
     ]
    }
   ],
   "source": [
    "type_hierarchy, max_depth = load_type_hierarchy('./smart_dataset/evaluation/dbpedia/dbpedia_types.tsv')"
   ]
  },
  {
   "cell_type": "code",
   "execution_count": 13,
   "metadata": {},
   "outputs": [
    {
     "name": "stdout",
     "output_type": "stream",
     "text": [
      "\n",
      "\n",
      "Evaluation results:\n",
      "-------------------\n",
      "Category prediction (based on 7662 questions)\n",
      "  Accuracy: 1.000\n",
      "Type ranking (based on 7662 questions)\n",
      "  NDCG@5:  0.245\n",
      "  NDCG@10: 0.208\n"
     ]
    }
   ],
   "source": [
    "# Set which dataset to use for evaluation\n",
    "eval_dataset = train_set\n",
    "\n",
    "# Evaluate\n",
    "ground_truth = get_ground_truth(eval_dataset, type_hierarchy)\n",
    "system_output = format_outputs(eval_dataset, type_hierarchy)\n",
    "evaluate(system_output, ground_truth, type_hierarchy, max_depth)"
   ]
  },
  {
   "cell_type": "code",
   "execution_count": null,
   "metadata": {},
   "outputs": [],
   "source": []
  }
 ],
 "metadata": {
  "kernelspec": {
   "display_name": "Python 3",
   "language": "python",
   "name": "python3"
  },
  "language_info": {
   "codemirror_mode": {
    "name": "ipython",
    "version": 3
   },
   "file_extension": ".py",
   "mimetype": "text/x-python",
   "name": "python",
   "nbconvert_exporter": "python",
   "pygments_lexer": "ipython3",
   "version": "3.7.8"
  }
 },
 "nbformat": 4,
 "nbformat_minor": 2
}
