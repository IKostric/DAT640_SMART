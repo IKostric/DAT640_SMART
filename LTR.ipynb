{
 "cells": [
  {
   "cell_type": "code",
   "execution_count": 1,
   "metadata": {},
   "outputs": [],
   "source": [
    "from elasticsearch import Elasticsearch\n",
    "import json, os, pickle\n",
    "import itertools\n",
    "import numpy as np\n",
    "from sklearn.ensemble import RandomForestRegressor\n",
    "\n",
    "from util.es import ES\n",
    "from util.io import load_dict_from_json\n",
    "from util.parse_dbpedia import get_type_weights\n",
    "from smart_dataset.evaluation.dbpedia.evaluate import load_type_hierarchy, evaluate, get_type_path"
   ]
  },
  {
   "cell_type": "code",
   "execution_count": 2,
   "metadata": {},
   "outputs": [],
   "source": [
    "class PointWiseLTRModel(object):\n",
    "    def __init__(self, regressor):\n",
    "        \"\"\"\n",
    "        Arguments:\n",
    "            classifier: An instance of scikit-learn regressor.\n",
    "        \"\"\"\n",
    "        self.regressor = regressor\n",
    "\n",
    "    def _train(self, X, y):\n",
    "        \"\"\"Trains an LTR model.\n",
    "        \n",
    "        Arguments:\n",
    "            X: Features of training instances.\n",
    "            y: Relevance assessments of training instances.\n",
    "        \"\"\"\n",
    "        assert self.regressor is not None\n",
    "        self.model = self.regressor.fit(X, y)\n",
    "\n",
    "    def rank(self, ft, doc_ids):\n",
    "        \"\"\"Predicts relevance labels and rank documents for a given query.\n",
    "        \n",
    "        Arguments:\n",
    "            ft: A list of feature vectors for query-document pairs.\n",
    "            doc_ids: A list of document ids.\n",
    "        Returns:\n",
    "            List of tuples, each consisting of document ID and predicted relevance label.\n",
    "        \"\"\"\n",
    "        assert self.model is not None\n",
    "        rel_labels = self.model.predict(ft)\n",
    "        sort_indices = np.argsort(rel_labels)[::-1]\n",
    "\n",
    "        results = []\n",
    "        for i in sort_indices:\n",
    "            results.append((doc_ids[i], rel_labels[i]))\n",
    "        return results"
   ]
  },
  {
   "cell_type": "code",
   "execution_count": 3,
   "metadata": {},
   "outputs": [],
   "source": [
    "def get_baseline(dataset='train'):\n",
    "    baseline = []\n",
    "    for similarity in ['BM25', 'LM']:\n",
    "        for n in [5, 10, 20, 50, 100]:\n",
    "            results = {key: {k:v for k,v in val} for key,val in ES('EC', similarity).generate_baseline_scores(dataset, n).items()}\n",
    "            baseline.append(results)\n",
    "        results = {key: {k:v for k,v in val} for key,val in ES('TC', similarity).generate_baseline_scores(dataset).items()}\n",
    "        baseline.append(results)\n",
    "    return baseline"
   ]
  },
  {
   "cell_type": "code",
   "execution_count": 4,
   "metadata": {},
   "outputs": [],
   "source": [
    "BASELINE = {'train':get_baseline()}"
   ]
  },
  {
   "cell_type": "code",
   "execution_count": 5,
   "metadata": {},
   "outputs": [],
   "source": [
    "ENTITIES = get_type_weights()"
   ]
  },
  {
   "cell_type": "code",
   "execution_count": 6,
   "metadata": {},
   "outputs": [],
   "source": [
    "# load file with type family features\n",
    "FAMILY = load_dict_from_json('type_hierarchy_features.json')"
   ]
  },
  {
   "cell_type": "code",
   "execution_count": 7,
   "metadata": {},
   "outputs": [],
   "source": [
    "T_LENGTH = load_dict_from_json('type_length_features')"
   ]
  },
  {
   "cell_type": "code",
   "execution_count": 8,
   "metadata": {},
   "outputs": [],
   "source": [
    "T_LABEL = load_dict_from_json('type_label_idf_features')"
   ]
  },
  {
   "cell_type": "code",
   "execution_count": 9,
   "metadata": {},
   "outputs": [],
   "source": [
    "Q_T_IDF = load_dict_from_json('query_type_idf_features.json')"
   ]
  },
  {
   "cell_type": "code",
   "execution_count": 10,
   "metadata": {},
   "outputs": [],
   "source": [
    "#Insert the below code into a cell before the extract_features cell:\n",
    "\n",
    "with open(os.path.join('data','Q_T_features'),'rb') as f:\n",
    "    qt_features = pickle.load(f)\n",
    "    \n",
    "q_ids = load_dict_from_json('q_id_list.json')\n",
    "q_t_avg = load_dict_from_json('avg_q_t.json')"
   ]
  },
  {
   "cell_type": "code",
   "execution_count": 11,
   "metadata": {},
   "outputs": [
    {
     "name": "stdout",
     "output_type": "stream",
     "text": [
      "Loading type hierarchy from ./smart_dataset/evaluation/dbpedia/dbpedia_types.tsv... 760 types loaded (max depth: 7)\n"
     ]
    }
   ],
   "source": [
    "type_hierarchy, max_depth = load_type_hierarchy('./smart_dataset/evaluation/dbpedia/dbpedia_types.tsv')"
   ]
  },
  {
   "cell_type": "code",
   "execution_count": 12,
   "metadata": {},
   "outputs": [],
   "source": [
    "def get_Q_T_features(qid,t,lft=qt_features,lqs=q_ids,s='train'):\n",
    "    '''\n",
    "    Function for extracting SIMAGGR and JTERMS features for\n",
    "    query-type pairs.\n",
    "    Will use average values if type not in the aggregated\n",
    "    type docuemnt.\n",
    "    '''\n",
    "    s = 'val' if s == 'validation' else s\n",
    "    q_idx = q_ids[s][qid]\n",
    "    t_label = t[4:]\n",
    "    if t_label in lft:\n",
    "        return([1,lft[t_label][s]['JTERMS'][q_idx],\\\n",
    "                lft[t_label][s]['SIMAGGR'][0][q_idx][0][1]])\n",
    "    else:\n",
    "        return [0,q_t_avg['JTERMS'],(q_t_avg['SIMAGGR']+1)/2]"
   ]
  },
  {
   "cell_type": "code",
   "execution_count": 14,
   "metadata": {},
   "outputs": [],
   "source": [
    "def extract_features(qid, t, dataset = 'train'):\n",
    "    \"\"\"Returns features to use in ltr\n",
    "    \"\"\"        \n",
    "    # Add baseline features in following order:\n",
    "    # EC_BM, EC_LM, TC_BM, TC_LM\n",
    "    features = [es.get(qid, {}).get(t, 0) for es in BASELINE[dataset]]\n",
    "    \n",
    "    # add ENTITIES\n",
    "    features.append(ENTITIES.get(t, 0))\n",
    "    \n",
    "    # add type family features\n",
    "    if t[4:] in FAMILY.keys():\n",
    "        features.append(FAMILY[t[4:]]['depth'])\n",
    "        features.append(len(FAMILY[t[4:]]['siblings']))\n",
    "        features.append(len(FAMILY[t[4:]]['children'])) \n",
    "    else:\n",
    "        # print('type: {} not in hierarchy list'.format(t))\n",
    "        features +=[0,0,0]\n",
    "\n",
    "    # add type length\n",
    "    if t[4:] in T_LENGTH.keys():\n",
    "        features.append(T_LENGTH[t[4:]]['X'][\"doc_length_body\"])\n",
    "    else:\n",
    "        # print('type: {} not in type length list'.format(t))\n",
    "        features.append(0) \n",
    "        \n",
    "    # add IDF label features\n",
    "    if t[4:] in T_LABEL.keys():\n",
    "        for f in T_LABEL[t[4:]]['X'].values():\n",
    "            features.append(f) \n",
    "    else:\n",
    "        # print('type: {} not in labels list'.format(t))\n",
    "        features += [0]*4\n",
    "        \n",
    "    # add query type IDF features\n",
    "    if t[4:] in Q_T_IDF.keys():\n",
    "        for f in Q_T_IDF[t[4:]].values():\n",
    "            features.append(f) \n",
    "    else:\n",
    "   #     print('type: {} not in labels list'.format(t))\n",
    "        features += [0]*4\n",
    "    \n",
    "    # add Q-T features\n",
    "    features.extend(get_Q_T_features(qid,t,s=dataset))\n",
    "    \n",
    "    return features"
   ]
  },
  {
   "cell_type": "code",
   "execution_count": 15,
   "metadata": {},
   "outputs": [],
   "source": [
    "def prepare_ltr_training_data(queries):\n",
    "    X, y = [], []\n",
    "    \n",
    "    for i, query in enumerate(queries):\n",
    "        types = set([*query['type'], *list(itertools.chain.from_iterable([list(es.get(query['id'], {}).keys()) for es in BASELINE['train']]))])\n",
    "        for t in types:\n",
    "            X.append(extract_features(query['id'], t))\n",
    "            y.append(1 if t in query['type'] else 0)\n",
    "    \n",
    "    return X, y"
   ]
  },
  {
   "cell_type": "code",
   "execution_count": 16,
   "metadata": {},
   "outputs": [],
   "source": [
    "queries = {}\n",
    "for name in ['train', 'validation', 'test']:\n",
    "    dataset = load_dict_from_json(f'{name}_set_fixed.json')\n",
    "    queries[name] = [q for q in dataset if q['category'] == 'resource']"
   ]
  },
  {
   "cell_type": "code",
   "execution_count": 17,
   "metadata": {},
   "outputs": [
    {
     "data": {
      "text/plain": [
       "(783171, 20459)"
      ]
     },
     "execution_count": 17,
     "metadata": {},
     "output_type": "execute_result"
    }
   ],
   "source": [
    "X_train, y_train = prepare_ltr_training_data(queries['train'])\n",
    "len(y_train), sum(y_train)"
   ]
  },
  {
   "cell_type": "code",
   "execution_count": 18,
   "metadata": {},
   "outputs": [],
   "source": [
    "# Instantiate an scikit-learn regression model, `clf`.\n",
    "clf = RandomForestRegressor(max_depth=4, n_estimators=100)\n",
    "\n",
    "# Instantiate PointWiseLTRModel.\n",
    "ltr = PointWiseLTRModel(clf)\n",
    "ltr._train(X_train, y_train)"
   ]
  },
  {
   "cell_type": "code",
   "execution_count": 19,
   "metadata": {},
   "outputs": [],
   "source": [
    "def get_rankings(ltr, queries, dataset='train'):\n",
    "    test_rankings = {}\n",
    "    if dataset not in BASELINE:\n",
    "        BASELINE[dataset] = get_baseline(dataset)\n",
    "    \n",
    "    for i, query in enumerate(queries):\n",
    "        types = list(set([*query['type'], *list(itertools.chain.from_iterable([list(es.get(query['id'], {}).keys()) for es in BASELINE[dataset]]))]))\n",
    "        #types = list(type_hierarchy.keys())\n",
    "        features = [extract_features(query['id'], t, dataset) for t in types]\n",
    "        test_rankings[query['id']] = ltr.rank(features, types)\n",
    "        \n",
    "    return test_rankings"
   ]
  },
  {
   "cell_type": "code",
   "execution_count": 20,
   "metadata": {},
   "outputs": [],
   "source": [
    "def get_ground_truth(dataset, type_hierarchy):\n",
    "    ground_truth = {}\n",
    "    for query in dataset:\n",
    "        ID = query['id']\n",
    "        if query['category'] != 'resource':\n",
    "            continue\n",
    "\n",
    "        ground_truth_type = [t for t in query['type'] if t in type_hierarchy]\n",
    "        if not ground_truth_type:\n",
    "            continue\n",
    "\n",
    "        ground_truth[ID] = {\n",
    "            'category': 'resource',\n",
    "            'type': ground_truth_type\n",
    "        }\n",
    "        \n",
    "    return ground_truth"
   ]
  },
  {
   "cell_type": "code",
   "execution_count": 21,
   "metadata": {},
   "outputs": [],
   "source": [
    "def format_outputs(results, queries, type_hierarchy):\n",
    "    system_output = {}\n",
    "    \n",
    "    for query in queries:\n",
    "        ID = query['id']\n",
    "        if query['category'] != 'resource':\n",
    "            continue\n",
    "\n",
    "        if not any([t for t in query['type'] if t in type_hierarchy]):\n",
    "            continue\n",
    "\n",
    "        system_output_type = [t for t,s in results[ID] if t in type_hierarchy] if ID in results else []\n",
    "        #system_output_type = get_type_path(system_output_type[0], type_hierarchy) if system_output_type else []\n",
    "\n",
    "        system_output[ID] = {\n",
    "            'category': 'resource',\n",
    "            'type': system_output_type\n",
    "        }\n",
    "        \n",
    "    return system_output"
   ]
  },
  {
   "cell_type": "code",
   "execution_count": 22,
   "metadata": {},
   "outputs": [
    {
     "name": "stdout",
     "output_type": "stream",
     "text": [
      "\n",
      "\n",
      "Evaluation results:\n",
      "-------------------\n",
      "Category prediction (based on 932 questions)\n",
      "  Accuracy: 1.000\n",
      "Type ranking (based on 932 questions)\n",
      "  NDCG@5:  0.420\n",
      "  NDCG@10: 0.425\n"
     ]
    }
   ],
   "source": [
    "# Set which query set to use for evaluation\n",
    "name = 'validation'\n",
    "\n",
    "# Evaluate\n",
    "results = get_rankings(ltr, queries[name], name)\n",
    "system_output = format_outputs(results, queries[name], type_hierarchy)\n",
    "ground_truth = get_ground_truth(queries[name], type_hierarchy)\n",
    "evaluate(system_output, ground_truth, type_hierarchy, max_depth)"
   ]
  },
  {
   "cell_type": "code",
   "execution_count": null,
   "metadata": {},
   "outputs": [],
   "source": []
  }
 ],
 "metadata": {
  "kernelspec": {
   "display_name": "Python 3",
   "language": "python",
   "name": "python3"
  },
  "language_info": {
   "codemirror_mode": {
    "name": "ipython",
    "version": 3
   },
   "file_extension": ".py",
   "mimetype": "text/x-python",
   "name": "python",
   "nbconvert_exporter": "python",
   "pygments_lexer": "ipython3",
   "version": "3.7.8"
  }
 },
 "nbformat": 4,
 "nbformat_minor": 2
}
