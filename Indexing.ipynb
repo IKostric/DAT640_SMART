{
 "cells": [
  {
   "cell_type": "code",
   "execution_count": 1,
   "metadata": {},
   "outputs": [],
   "source": [
    "import requests\n",
    "import re\n",
    "from elasticsearch import Elasticsearch\n",
    "from elasticsearch.helpers import parallel_bulk\n",
    "from json import JSONDecodeError\n",
    "from collections import defaultdict\n",
    "import json\n",
    "import numpy as np\n",
    "\n",
    "from util.es import ES\n",
    "from smart_dataset.evaluation.dbpedia.evaluate import load_type_hierarchy, evaluate, get_type_path"
   ]
  },
  {
   "cell_type": "code",
   "execution_count": 2,
   "metadata": {},
   "outputs": [],
   "source": [
    "base_models = ['EC', 'TC']\n",
    "base_similarities = ['BM25', 'LM']\n",
    "es_list = [ES(model, similarity) for model in base_models for similarity in base_similarities]"
   ]
  },
  {
   "cell_type": "code",
   "execution_count": 3,
   "metadata": {},
   "outputs": [],
   "source": [
    "for es in es_list:\n",
    "    if not es.es.indices.exists(es.get_index()):\n",
    "        # You can allso call this if you want to force reindex or\n",
    "        # change the documents that are indexed\n",
    "        es.reindex()"
   ]
  },
  {
   "cell_type": "code",
   "execution_count": 4,
   "metadata": {},
   "outputs": [
    {
     "name": "stdout",
     "output_type": "stream",
     "text": [
      "Num indexed documents: \n",
      "EC - BM25:\t3141300\n",
      "EC - LM:\t3141300\n",
      "TC - BM25:\t417\n",
      "TC - LM:\t417\n"
     ]
    }
   ],
   "source": [
    "# this might report the wrong number if run right after reindexing\n",
    "print('Num indexed documents: ')\n",
    "for es in es_list:\n",
    "    num = int(es.es.cat.count(es.get_index(), params={\"format\": \"json\"})[0]['count'])\n",
    "    print(f'{es.model} - {es.similarity}:\\t{num}')"
   ]
  },
  {
   "cell_type": "code",
   "execution_count": 5,
   "metadata": {},
   "outputs": [],
   "source": [
    "def get_ground_truth(dataset, type_hierarchy):\n",
    "    ground_truth = {}\n",
    "    for query in dataset:\n",
    "        ID = query['id']\n",
    "        if query['category'] != 'resource':\n",
    "            continue\n",
    "\n",
    "        ground_truth_type = [t for t in query['type'] if t in type_hierarchy]\n",
    "        if not ground_truth_type:\n",
    "            continue\n",
    "\n",
    "        ground_truth[ID] = {\n",
    "            'category': 'resource',\n",
    "            'type': ground_truth_type\n",
    "        }\n",
    "        \n",
    "    return ground_truth"
   ]
  },
  {
   "cell_type": "code",
   "execution_count": 6,
   "metadata": {},
   "outputs": [],
   "source": [
    "def format_outputs(es, dataset, type_hierarchy):\n",
    "    k = 100\n",
    "    results = es.generate_baseline_scores('train')\n",
    "    system_output = {}\n",
    "    for query in dataset:\n",
    "        ID = query['id']\n",
    "        if query['category'] != 'resource':\n",
    "            continue\n",
    "\n",
    "        if not any([t for t in query['type'] if t in type_hierarchy]):\n",
    "            continue\n",
    "\n",
    "        system_output_type = [t for t,s in results[ID] if t in type_hierarchy] if ID in results else None\n",
    "        system_output_type = get_type_path(system_output_type[0], type_hierarchy) if system_output_type else []\n",
    "\n",
    "        system_output[ID] = {\n",
    "            'category': 'resource',\n",
    "            'type': system_output_type\n",
    "        }\n",
    "        \n",
    "    return system_output"
   ]
  },
  {
   "cell_type": "code",
   "execution_count": 7,
   "metadata": {},
   "outputs": [
    {
     "name": "stdout",
     "output_type": "stream",
     "text": [
      "Loading type hierarchy from ./smart_dataset/evaluation/dbpedia/dbpedia_types.tsv... 760 types loaded (max depth: 7)\n"
     ]
    }
   ],
   "source": [
    "with open('./data/train_set_fixed.json', 'r') as f:\n",
    "    train_set = json.load(f)\n",
    "    \n",
    "type_hierarchy, max_depth = load_type_hierarchy('./smart_dataset/evaluation/dbpedia/dbpedia_types.tsv')\n",
    "ground_truth = get_ground_truth(train_set, type_hierarchy)"
   ]
  },
  {
   "cell_type": "code",
   "execution_count": 8,
   "metadata": {},
   "outputs": [
    {
     "name": "stdout",
     "output_type": "stream",
     "text": [
      "\n",
      "Evaluation for EC - BM25:\n",
      "\n",
      "\n",
      "Evaluation results:\n",
      "-------------------\n",
      "Category prediction (based on 7662 questions)\n",
      "  Accuracy: 1.000\n",
      "Type ranking (based on 7662 questions)\n",
      "  NDCG@5:  0.247\n",
      "  NDCG@10: 0.208\n",
      "\n",
      "Evaluation for EC - LM:\n",
      "\n",
      "\n",
      "Evaluation results:\n",
      "-------------------\n",
      "Category prediction (based on 7662 questions)\n",
      "  Accuracy: 1.000\n",
      "Type ranking (based on 7662 questions)\n",
      "  NDCG@5:  0.210\n",
      "  NDCG@10: 0.174\n",
      "\n",
      "Evaluation for TC - BM25:\n",
      "\n",
      "\n",
      "Evaluation results:\n",
      "-------------------\n",
      "Category prediction (based on 7662 questions)\n",
      "  Accuracy: 1.000\n",
      "Type ranking (based on 7662 questions)\n",
      "  NDCG@5:  0.232\n",
      "  NDCG@10: 0.198\n",
      "\n",
      "Evaluation for TC - LM:\n",
      "\n",
      "\n",
      "Evaluation results:\n",
      "-------------------\n",
      "Category prediction (based on 7662 questions)\n",
      "  Accuracy: 1.000\n",
      "Type ranking (based on 7662 questions)\n",
      "  NDCG@5:  0.189\n",
      "  NDCG@10: 0.167\n"
     ]
    }
   ],
   "source": [
    "for es in es_list:\n",
    "    system_output = format_outputs(es, train_set, type_hierarchy)\n",
    "    print('\\nEvaluation for {} - {}:'.format(es.model, es.similarity))\n",
    "    evaluate(system_output, ground_truth, type_hierarchy, max_depth)"
   ]
  },
  {
   "cell_type": "code",
   "execution_count": null,
   "metadata": {},
   "outputs": [],
   "source": []
  }
 ],
 "metadata": {
  "kernelspec": {
   "display_name": "Python 3",
   "language": "python",
   "name": "python3"
  },
  "language_info": {
   "codemirror_mode": {
    "name": "ipython",
    "version": 3
   },
   "file_extension": ".py",
   "mimetype": "text/x-python",
   "name": "python",
   "nbconvert_exporter": "python",
   "pygments_lexer": "ipython3",
   "version": "3.7.8"
  }
 },
 "nbformat": 4,
 "nbformat_minor": 4
}
