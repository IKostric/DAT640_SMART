{
 "cells": [
  {
   "cell_type": "code",
   "execution_count": 1,
   "metadata": {},
   "outputs": [],
   "source": [
    "import requests\n",
    "import re\n",
    "from elasticsearch import Elasticsearch\n",
    "from elasticsearch.helpers import parallel_bulk\n",
    "from json import JSONDecodeError\n",
    "from collections import defaultdict\n",
    "import json\n",
    "import numpy as np\n",
    "\n",
    "from util.es import ES\n",
    "from smart_dataset.evaluation.dbpedia.evaluate import load_type_hierarchy, evaluate, get_type_path"
   ]
  },
  {
   "cell_type": "code",
   "execution_count": 2,
   "metadata": {},
   "outputs": [
    {
     "name": "stdout",
     "output_type": "stream",
     "text": [
      "{'name': 'BIEBER', 'cluster_name': 'elasticsearch', 'cluster_uuid': 'nN32_N-8T1OLuu3AJOSr2g', 'version': {'number': '7.9.1', 'build_flavor': 'default', 'build_type': 'zip', 'build_hash': '083627f112ba94dffc1232e8b42b73492789ef91', 'build_date': '2020-09-01T21:22:21.964974Z', 'build_snapshot': False, 'lucene_version': '8.6.2', 'minimum_wire_compatibility_version': '6.8.0', 'minimum_index_compatibility_version': '6.0.0-beta1'}, 'tagline': 'You Know, for Search'}\n"
     ]
    }
   ],
   "source": [
    "es = ES(model='EC', similarity='BM25')\n",
    "if not es.es.indices.exists(es.get_index()):\n",
    "    # You can allso call this if you want to force reindex or\n",
    "    # change the documents that are indexed\n",
    "    es.reindex() "
   ]
  },
  {
   "cell_type": "code",
   "execution_count": 3,
   "metadata": {},
   "outputs": [
    {
     "name": "stdout",
     "output_type": "stream",
     "text": [
      "Num indexed documents: \n"
     ]
    },
    {
     "data": {
      "text/plain": [
       "3141300"
      ]
     },
     "execution_count": 3,
     "metadata": {},
     "output_type": "execute_result"
    }
   ],
   "source": [
    "# this might report the wrong number if run right after reindexing\n",
    "print('Num indexed documents: ')\n",
    "int(es.es.cat.count(es.get_index(), params={\"format\": \"json\"})[0]['count'])"
   ]
  },
  {
   "cell_type": "code",
   "execution_count": 4,
   "metadata": {},
   "outputs": [
    {
     "name": "stdout",
     "output_type": "stream",
     "text": [
      "Loading type hierarchy from ./smart_dataset/evaluation/dbpedia/dbpedia_types.tsv... 760 types loaded (max depth: 7)\n"
     ]
    }
   ],
   "source": [
    "type_hierarchy, max_depth = load_type_hierarchy('./smart_dataset/evaluation/dbpedia/dbpedia_types.tsv')\n",
    "with open('./data/train_set_fixed.json', 'r') as f:\n",
    "    train_set = json.load(f)"
   ]
  },
  {
   "cell_type": "code",
   "execution_count": 5,
   "metadata": {},
   "outputs": [],
   "source": [
    "results = es.generate_baseline_scores('train')"
   ]
  },
  {
   "cell_type": "code",
   "execution_count": 6,
   "metadata": {},
   "outputs": [],
   "source": [
    "k = 100\n",
    "ground_truth, system_output = {}, {}\n",
    "for query in train_set:\n",
    "    ID = query['id']\n",
    "    if query['category'] != 'resource':\n",
    "        continue\n",
    "\n",
    "    ground_truth_type = [t for t in query['type'] if t in type_hierarchy]\n",
    "    if not ground_truth_type:\n",
    "        continue\n",
    "        \n",
    "    system_output_type = [t for t,s in results[ID] if t in type_hierarchy] if ID in results else None\n",
    "    system_output_type = get_type_path(system_output_type[0], type_hierarchy) if system_output_type else []\n",
    "            \n",
    "    system_output[ID] = {\n",
    "        'category': 'resource',\n",
    "        'type': system_output_type\n",
    "    }\n",
    "    \n",
    "    ground_truth[ID] = {\n",
    "        'category': 'resource',\n",
    "        'type': ground_truth_type\n",
    "    }"
   ]
  },
  {
   "cell_type": "code",
   "execution_count": 7,
   "metadata": {},
   "outputs": [
    {
     "name": "stdout",
     "output_type": "stream",
     "text": [
      "\n",
      "\n",
      "Evaluation results:\n",
      "-------------------\n",
      "Category prediction (based on 7662 questions)\n",
      "  Accuracy: 1.000\n",
      "Type ranking (based on 7662 questions)\n",
      "  NDCG@5:  0.247\n",
      "  NDCG@10: 0.208\n"
     ]
    }
   ],
   "source": [
    "evaluate(system_output, ground_truth, type_hierarchy, max_depth)"
   ]
  },
  {
   "cell_type": "code",
   "execution_count": null,
   "metadata": {},
   "outputs": [],
   "source": []
  }
 ],
 "metadata": {
  "kernelspec": {
   "display_name": "Python 3",
   "language": "python",
   "name": "python3"
  },
  "language_info": {
   "codemirror_mode": {
    "name": "ipython",
    "version": 3
   },
   "file_extension": ".py",
   "mimetype": "text/x-python",
   "name": "python",
   "nbconvert_exporter": "python",
   "pygments_lexer": "ipython3",
   "version": "3.7.8"
  }
 },
 "nbformat": 4,
 "nbformat_minor": 4
}
