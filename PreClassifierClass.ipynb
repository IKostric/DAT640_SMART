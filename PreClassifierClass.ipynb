{
 "cells": [
  {
   "cell_type": "code",
   "execution_count": 2,
   "metadata": {},
   "outputs": [],
   "source": [
    "import numpy as np\n",
    "import os\n",
    "import json\n",
    "\n",
    "from sklearn.feature_extraction.text import CountVectorizer\n",
    "from sklearn.neural_network import MLPClassifier\n",
    "from sklearn.decomposition import TruncatedSVD\n",
    "from sklearn import metrics as mtr\n",
    "import pickle"
   ]
  },
  {
   "cell_type": "code",
   "execution_count": 6,
   "metadata": {},
   "outputs": [],
   "source": [
    "class QPC_model:\n",
    "    def __init__(self):\n",
    "        '''\n",
    "        Arguments\n",
    "            conf:         Configuration ID for saving or loading model\n",
    "            ngram_range:  Ngrams to use when tokenizing\n",
    "            min_df:       Minimum document frequency\n",
    "            tsvd_cmp:     How many components to include in truncated SVD decomposition.\n",
    "        '''\n",
    "        self.ngram_range = (1,2)\n",
    "        self.min_df = 1\n",
    "        self.classes = np.array(['resource', 'date', 'number', 'string', 'boolean'])\n",
    "        self.mlpc = None\n",
    "        self.conf_opts = ['tc1','tc3','tc4'] \n",
    "        self.conf = self.conf_opts[1]\n",
    "        \n",
    "    def model(self):\n",
    "        '''\n",
    "        Method for training word vectorizer and neural network.\n",
    "        '''\n",
    "        self.cv, self.mlpc, self.tsvd = self._load_model(self.conf)\n",
    "\n",
    "\n",
    "    def predict(self, query_list):\n",
    "        '''\n",
    "        Method for predicting category labels.\n",
    "        Pass query_list as list of dictionaries with queries.\n",
    "        '''\n",
    "        self.model()\n",
    "        if not self.mlpc:\n",
    "            print('Model not loaded')\n",
    "            return None\n",
    "        queries = [q['question'] for q in query_list if q['question'] is not None]\n",
    "        vec = self.cv.transform(queries)\n",
    "        if self.tsvd:\n",
    "            vec = self.tsvd.transform(vec)\n",
    "        pred = self.mlpc.predict(vec)\n",
    "        return pred\n",
    "            \n",
    "    def _load_model(self, conf):\n",
    "        with open('qpccv-'+ conf + '.sav','rb') as f:\n",
    "            cv = pickle.load(f)\n",
    "        with open('qpcmlpc-' + conf + '.sav','rb') as f:\n",
    "            mlpc = pickle.load(f)\n",
    "        try:\n",
    "            with open('qpctsvd-' + conf + '.sav','rb') as f:\n",
    "                tsvd = pickle.load(f)\n",
    "        except:\n",
    "            tsvd = None\n",
    "        return (cv, mlpc, tsvd)"
   ]
  },
  {
   "cell_type": "code",
   "execution_count": null,
   "metadata": {},
   "outputs": [],
   "source": []
  }
 ],
 "metadata": {
  "kernelspec": {
   "display_name": "Python 3",
   "language": "python",
   "name": "python3"
  },
  "language_info": {
   "codemirror_mode": {
    "name": "ipython",
    "version": 3
   },
   "file_extension": ".py",
   "mimetype": "text/x-python",
   "name": "python",
   "nbconvert_exporter": "python",
   "pygments_lexer": "ipython3",
   "version": "3.7.3"
  }
 },
 "nbformat": 4,
 "nbformat_minor": 2
}
